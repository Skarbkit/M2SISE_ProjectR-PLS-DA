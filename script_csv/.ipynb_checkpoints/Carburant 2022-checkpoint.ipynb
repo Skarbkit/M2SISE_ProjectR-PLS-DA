{
 "cells": [
  {
   "cell_type": "code",
   "execution_count": 1,
   "id": "fefea51e",
   "metadata": {},
   "outputs": [],
   "source": [
    "import pandas as pd\n",
    "import lxml.etree as ET\n",
    "import csv"
   ]
  },
  {
   "cell_type": "code",
   "execution_count": 2,
   "id": "d00b9fe4",
   "metadata": {},
   "outputs": [],
   "source": [
    "xml = ET.parse(\"C:/Users/pauli/Documents/M2/entrepot de donnees/PrixCarburant_2022_Paris.xml\")\n",
    "#PrixCarburants_annuel_2022"
   ]
  },
  {
   "cell_type": "code",
   "execution_count": 3,
   "id": "438eb441",
   "metadata": {},
   "outputs": [
    {
     "name": "stdout",
     "output_type": "stream",
     "text": [
      "pdv_liste\n"
     ]
    }
   ],
   "source": [
    "xroot = xml.getroot()\n",
    "print(xroot.tag)"
   ]
  },
  {
   "cell_type": "code",
   "execution_count": 8,
   "id": "963a3235",
   "metadata": {},
   "outputs": [],
   "source": [
    "dfcols = [\"id_station\", \"latitude\", \"longitude\", \"adresse\", \"ville\", \"cp\", \"id_pompe\", \"type_carburant\", \"prix\",\"date_maj\"]\n",
    "\n",
    "df_xml = pd.DataFrame(columns=dfcols)\n",
    "\n",
    "for node in xroot :\n",
    "    id_ = node.attrib.get(\"id\")\n",
    "    latitude = node.attrib.get(\"latitude\")\n",
    "    longitude = node.attrib.get(\"longitude\")\n",
    "    adresse = node.find(\"adresse\").text\n",
    "    ville = node.find(\"ville\").text\n",
    "    cp = node.attrib.get(\"cp\")\n",
    "    for prix in node.iter('prix'):\n",
    "\n",
    "        ligne = prix.attrib.values()\n",
    "        if ligne :\n",
    "            nom = ligne[0]\n",
    "            id_p = ligne[1]\n",
    "            prix = ligne[3]\n",
    "            maj = ligne[2]\n",
    "            df_new_row = pd.DataFrame(data=[[id_, latitude,longitude,adresse,ville,cp,id_p,nom,prix,maj]], columns=dfcols)\n",
    "            df_xml = pd.concat([df_xml, df_new_row], ignore_index=True)"
   ]
  },
  {
   "cell_type": "code",
   "execution_count": null,
   "id": "0c3230f0",
   "metadata": {},
   "outputs": [],
   "source": []
  },
  {
   "cell_type": "code",
   "execution_count": 6,
   "id": "b71af41b",
   "metadata": {},
   "outputs": [],
   "source": [
    "#df_xml.to_csv(\"C:/Users/pauli/Documents/M2/entrepot de donnees/2.csv\", index=False)"
   ]
  },
  {
   "cell_type": "code",
   "execution_count": 18,
   "id": "be3617ab",
   "metadata": {},
   "outputs": [],
   "source": [
    "df=pd.read_csv(\"C:/Users/pauli/Documents/M2/entrepot de donnees/2.csv\", sep=\";\")"
   ]
  },
  {
   "cell_type": "code",
   "execution_count": 19,
   "id": "74f94a9a",
   "metadata": {},
   "outputs": [],
   "source": [
    "df[\"date_maj\"]=df[\"date_maj\"].str.slice(stop=10)\n",
    "df[\"date_maj\"] = pd.to_datetime(df[\"date_maj\"], format='%Y-%m-%d')\n",
    "\n"
   ]
  },
  {
   "cell_type": "code",
   "execution_count": 20,
   "id": "fcbaa4eb",
   "metadata": {},
   "outputs": [
    {
     "name": "stdout",
     "output_type": "stream",
     "text": [
      "<class 'pandas._libs.tslibs.timestamps.Timestamp'>\n",
      "       id_station   latitude  longitude                  adresse  ville  \\\n",
      "0        75001003  4886100.0   234100.0  8,10,10bis Rue Bailleul  PARIS   \n",
      "1        75001003  4886100.0   234100.0  8,10,10bis Rue Bailleul  PARIS   \n",
      "2        75001003  4886100.0   234100.0  8,10,10bis Rue Bailleul  PARIS   \n",
      "3        75001003  4886100.0   234100.0  8,10,10bis Rue Bailleul  PARIS   \n",
      "4        75001003  4886100.0   234100.0  8,10,10bis Rue Bailleul  PARIS   \n",
      "...           ...        ...        ...                      ...    ...   \n",
      "36582    92300004  4889300.0   230200.0    2/10 BLD FORT DE VAUX  PARIS   \n",
      "36583    92300004  4889300.0   230200.0    2/10 BLD FORT DE VAUX  PARIS   \n",
      "36584    92300004  4889300.0   230200.0    2/10 BLD FORT DE VAUX  PARIS   \n",
      "36585    92300004  4889300.0   230200.0    2/10 BLD FORT DE VAUX  PARIS   \n",
      "36586    92300004  4889300.0   230200.0    2/10 BLD FORT DE VAUX  PARIS   \n",
      "\n",
      "          cp  id_pompe type_carburant   prix   date_maj  \n",
      "0      75001         1         Gazole  1.990 2022-02-16  \n",
      "1      75001         1         Gazole  2.090 2022-03-05  \n",
      "2      75001         1         Gazole  2.490 2022-03-07  \n",
      "3      75001         1         Gazole  2.420 2022-03-14  \n",
      "4      75001         1         Gazole  2.210 2022-04-01  \n",
      "...      ...       ...            ...    ...        ...  \n",
      "36582  75017         6           SP98  1.799 2022-10-10  \n",
      "36583  75017         6           SP98  2.050 2022-10-14  \n",
      "36584  75017         6           SP98  1.979 2022-10-18  \n",
      "36585  75017         6           SP98  2.050 2022-10-19  \n",
      "36586  75017         6           SP98  1.689 2022-11-09  \n",
      "\n",
      "[36587 rows x 10 columns]\n"
     ]
    }
   ],
   "source": [
    "print(type(df[\"date_maj\"][0]))\n",
    "print(df)"
   ]
  }
 ],
 "metadata": {
  "kernelspec": {
   "display_name": "Python 3 (ipykernel)",
   "language": "python",
   "name": "python3"
  },
  "language_info": {
   "codemirror_mode": {
    "name": "ipython",
    "version": 3
   },
   "file_extension": ".py",
   "mimetype": "text/x-python",
   "name": "python",
   "nbconvert_exporter": "python",
   "pygments_lexer": "ipython3",
   "version": "3.9.13"
  }
 },
 "nbformat": 4,
 "nbformat_minor": 5
}
