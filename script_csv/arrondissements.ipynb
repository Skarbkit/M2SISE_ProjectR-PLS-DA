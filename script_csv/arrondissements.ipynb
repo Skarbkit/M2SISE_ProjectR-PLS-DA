{
 "cells": [
  {
   "cell_type": "code",
   "execution_count": 1,
   "metadata": {},
   "outputs": [],
   "source": [
    "import pandas as pd\n",
    "import numpy as np\n",
    "import os"
   ]
  },
  {
   "cell_type": "code",
   "execution_count": 2,
   "metadata": {},
   "outputs": [],
   "source": [
    "rep=\"/Volumes/USB FLO/\"\n",
    "os.chdir(rep)\n"
   ]
  },
  {
   "cell_type": "code",
   "execution_count": 3,
   "metadata": {},
   "outputs": [],
   "source": [
    "temp = pd.read_excel(\"arrondissements.xlsx\")"
   ]
  },
  {
   "cell_type": "code",
   "execution_count": 5,
   "metadata": {},
   "outputs": [
    {
     "name": "stdout",
     "output_type": "stream",
     "text": [
      "(20, 11)\n"
     ]
    },
    {
     "data": {
      "text/html": [
       "<div>\n",
       "<style scoped>\n",
       "    .dataframe tbody tr th:only-of-type {\n",
       "        vertical-align: middle;\n",
       "    }\n",
       "\n",
       "    .dataframe tbody tr th {\n",
       "        vertical-align: top;\n",
       "    }\n",
       "\n",
       "    .dataframe thead th {\n",
       "        text-align: right;\n",
       "    }\n",
       "</style>\n",
       "<table border=\"1\" class=\"dataframe\">\n",
       "  <thead>\n",
       "    <tr style=\"text-align: right;\">\n",
       "      <th></th>\n",
       "      <th>Identifiant séquentiel de l’arrondissement</th>\n",
       "      <th>Numéro d’arrondissement</th>\n",
       "      <th>Numéro d’arrondissement INSEE</th>\n",
       "      <th>Nom de l’arrondissement</th>\n",
       "      <th>Nom officiel de l’arrondissement</th>\n",
       "      <th>N_SQ_CO</th>\n",
       "      <th>Surface</th>\n",
       "      <th>Périmètre</th>\n",
       "      <th>X</th>\n",
       "      <th>Y</th>\n",
       "      <th>Geometry</th>\n",
       "    </tr>\n",
       "  </thead>\n",
       "  <tbody>\n",
       "    <tr>\n",
       "      <th>0</th>\n",
       "      <td>750000005</td>\n",
       "      <td>5</td>\n",
       "      <td>75105</td>\n",
       "      <td>5ème Ardt</td>\n",
       "      <td>Panthéon</td>\n",
       "      <td>750001537</td>\n",
       "      <td>2.539375e+06</td>\n",
       "      <td>6239.195396</td>\n",
       "      <td>48,844443150532726</td>\n",
       "      <td>2,3507146095752596</td>\n",
       "      <td>{\"coordinates\": [[[2.364433128355796, 48.84614...</td>\n",
       "    </tr>\n",
       "    <tr>\n",
       "      <th>1</th>\n",
       "      <td>750000008</td>\n",
       "      <td>8</td>\n",
       "      <td>75108</td>\n",
       "      <td>8ème Ardt</td>\n",
       "      <td>Élysée</td>\n",
       "      <td>750001537</td>\n",
       "      <td>3.880036e+06</td>\n",
       "      <td>7880.533268</td>\n",
       "      <td>48,872720837434514</td>\n",
       "      <td>2,312554022402064</td>\n",
       "      <td>{\"coordinates\": [[[2.3258362544719646, 48.8695...</td>\n",
       "    </tr>\n",
       "  </tbody>\n",
       "</table>\n",
       "</div>"
      ],
      "text/plain": [
       "   Identifiant séquentiel de l’arrondissement  Numéro d’arrondissement  \\\n",
       "0                                   750000005                        5   \n",
       "1                                   750000008                        8   \n",
       "\n",
       "   Numéro d’arrondissement INSEE Nom de l’arrondissement  \\\n",
       "0                          75105               5ème Ardt   \n",
       "1                          75108               8ème Ardt   \n",
       "\n",
       "  Nom officiel de l’arrondissement    N_SQ_CO       Surface    Périmètre  \\\n",
       "0                         Panthéon  750001537  2.539375e+06  6239.195396   \n",
       "1                           Élysée  750001537  3.880036e+06  7880.533268   \n",
       "\n",
       "                    X                    Y  \\\n",
       "0  48,844443150532726   2,3507146095752596   \n",
       "1  48,872720837434514    2,312554022402064   \n",
       "\n",
       "                                            Geometry  \n",
       "0  {\"coordinates\": [[[2.364433128355796, 48.84614...  \n",
       "1  {\"coordinates\": [[[2.3258362544719646, 48.8695...  "
      ]
     },
     "execution_count": 5,
     "metadata": {},
     "output_type": "execute_result"
    }
   ],
   "source": [
    "print(temp.shape)\n",
    "temp.head(2)"
   ]
  },
  {
   "cell_type": "code",
   "execution_count": 9,
   "metadata": {},
   "outputs": [
    {
     "data": {
      "text/plain": [
       "Index(['Identifiant séquentiel de l’arrondissement', 'Numéro d’arrondissement',\n",
       "       'Numéro d’arrondissement INSEE', 'Nom de l’arrondissement',\n",
       "       'Nom officiel de l’arrondissement', 'N_SQ_CO', 'Surface', 'Périmètre',\n",
       "       'X', 'Y', 'Geometry', 'id_arr'],\n",
       "      dtype='object')"
      ]
     },
     "execution_count": 9,
     "metadata": {},
     "output_type": "execute_result"
    }
   ],
   "source": [
    "temp[\"id_arr\"] = range(1,temp.shape[0]+1)\n",
    "temp.columns"
   ]
  },
  {
   "cell_type": "code",
   "execution_count": 10,
   "metadata": {},
   "outputs": [
    {
     "name": "stdout",
     "output_type": "stream",
     "text": [
      "<class 'pandas.core.frame.DataFrame'>\n",
      "RangeIndex: 20 entries, 0 to 19\n",
      "Data columns (total 8 columns):\n",
      " #   Column                            Non-Null Count  Dtype  \n",
      "---  ------                            --------------  -----  \n",
      " 0   id_arr                            20 non-null     int64  \n",
      " 1   Numéro d’arrondissement           20 non-null     int64  \n",
      " 2   Numéro d’arrondissement INSEE     20 non-null     int64  \n",
      " 3   Nom officiel de l’arrondissement  20 non-null     object \n",
      " 4   Surface                           20 non-null     float64\n",
      " 5   X                                 20 non-null     object \n",
      " 6   Y                                 20 non-null     object \n",
      " 7   Geometry                          20 non-null     object \n",
      "dtypes: float64(1), int64(3), object(4)\n",
      "memory usage: 1.4+ KB\n"
     ]
    }
   ],
   "source": [
    "\n",
    "arrondissements = temp[[\"id_arr\",\"Numéro d’arrondissement\",\"Numéro d’arrondissement INSEE\",'Nom officiel de l’arrondissement','Surface','X', 'Y', 'Geometry' ]]\n",
    "arrondissements.info()"
   ]
  },
  {
   "cell_type": "code",
   "execution_count": 11,
   "metadata": {},
   "outputs": [],
   "source": [
    "arrondissements.to_csv('arrondissementsParis.csv', index=False, encoding='utf-8')"
   ]
  }
 ],
 "metadata": {
  "kernelspec": {
   "display_name": "Python 3.8.8 ('fouillemass': venv)",
   "language": "python",
   "name": "python3"
  },
  "language_info": {
   "codemirror_mode": {
    "name": "ipython",
    "version": 3
   },
   "file_extension": ".py",
   "mimetype": "text/x-python",
   "name": "python",
   "nbconvert_exporter": "python",
   "pygments_lexer": "ipython3",
   "version": "3.8.8"
  },
  "orig_nbformat": 4,
  "vscode": {
   "interpreter": {
    "hash": "056ed54054d97ab9ae05d86b7fe491d5df5a6a577ed29766b108c56c728c7dc8"
   }
  }
 },
 "nbformat": 4,
 "nbformat_minor": 2
}
